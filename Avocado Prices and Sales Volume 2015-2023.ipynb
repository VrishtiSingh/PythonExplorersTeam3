{
 "cells": [
  {
   "cell_type": "markdown",
   "id": "e23e4938-e003-44b4-b7c7-2016eb5726eb",
   "metadata": {},
   "source": [
    "# Avocado Prices and Sales Volume 2015-2023"
   ]
  },
  {
   "cell_type": "code",
   "execution_count": null,
   "id": "f8eafe84-5a73-4446-8eb7-98fd50940376",
   "metadata": {},
   "outputs": [
    {
     "data": {
      "text/html": [
       "<img src=\"https://www.buygrow.co.za/cdn/shop/products/FuerteAvocadoWB.png?v=1675280423\"/>"
      ],
      "text/plain": [
       "<IPython.core.display.Image object>"
      ]
     },
     "execution_count": 15,
     "metadata": {},
     "output_type": "execute_result"
    }
   ],
   "source": [
    "from IPython.display import Image\n",
    "Image(url='https://www.buygrow.co.za/cdn/shop/products/FuerteAvocadoWB.png?v=1675280423')\n"
   ]
  },
  {
   "cell_type": "markdown",
   "id": "68987c7a-2d0d-477b-862e-daf5e1e5005a",
   "metadata": {},
   "source": [
    "# Table of Contents\n",
    "- [1. Project Overview](#1-project-overview)\n",
    "  - [1.1 Introduction](#11-introduction)\n",
    "  - [1.2 Problem Statement](#12-problem-statement)\n",
    "  - [1.3 Objectives](#13-objectives)\n",
    "- [2. Importing Packages](#2-importing-packages)\n",
    "- [3. Loading Data](#3-loading-data)\n",
    "- [4. Data Cleaning](#4-data-cleaning)\n",
    "- [5. Exploratory Data Analysis (EDA)](#5-exploratory-data-analysis-eda)\n",
    "- [6. Conclusion](#6-conclusion)"
   ]
  },
  {
   "cell_type": "markdown",
   "id": "3f55dcce-50bb-4424-ac1a-d99bfaba9f91",
   "metadata": {},
   "source": [
    "### 1. Project Overview"
   ]
  },
  {
   "cell_type": "markdown",
   "id": "c4b46f83-8e0b-45f0-aeec-980c90fe79fa",
   "metadata": {},
   "source": [
    "##### 1.1 Introduction"
   ]
  },
  {
   "cell_type": "markdown",
   "id": "9b4c76e4-a3a1-4f39-b4be-85da4f34eacb",
   "metadata": {},
   "source": [
    "This project focuses on data cleaning and exploratory data analysis (EDA) of historical avocado prices. The primary goal is to clean the dataset and explore trends, seasonal patterns, and potential factors affecting avocado prices, setting a foundation for future predictive modeling."
   ]
  },
  {
   "cell_type": "markdown",
   "id": "1cd41b3c-559e-4650-a439-a07ec8a78fb7",
   "metadata": {},
   "source": [
    "##### 1.2 Problem Statement"
   ]
  },
  {
   "cell_type": "code",
   "execution_count": null,
   "id": "870ce28d-de30-4573-a33f-438d660e5372",
   "metadata": {},
   "outputs": [],
   "source": []
  },
  {
   "cell_type": "markdown",
   "id": "35de7b22-fb10-4da4-b923-ec68dd8f9417",
   "metadata": {},
   "source": [
    "##### 1.3 Objectives"
   ]
  },
  {
   "cell_type": "markdown",
   "id": "c2edb140-38d9-4916-be35-6664e6ab52d2",
   "metadata": {},
   "source": [
    "- Data Cleaning: Ensure data quality by handling missing values, correcting data types and adding new columns.\n",
    "\n",
    "- Exploratory Data Analysis (EDA): Identify trends, seasonal variations, and key differences in avocado prices by region and type (conventional vs. organic)."
   ]
  },
  {
   "cell_type": "markdown",
   "id": "97b005ab-8b92-4745-9ed8-b38df20e1059",
   "metadata": {},
   "source": [
    "### 2. Importing Packages"
   ]
  },
  {
   "cell_type": "markdown",
   "id": "06665c3f-dad4-4d02-a463-d7531f941853",
   "metadata": {},
   "source": [
    "To carry out data cleaning, manipulation, and visualization, we’ll use the following Python libraries:\n",
    "\n",
    "* pandas: Provides data structures and functions needed to efficiently clean and manipulate the dataset.\n",
    "\n",
    "* numpy: Adds support for numerical operations, including handling arrays and mathematical functions for outlier treatment.\n",
    "\n",
    "* matplotlib and seaborn: Libraries for data visualization. matplotlib is a core plotting library, while seaborn builds on it to provide more aesthetic and statistical visualizations."
   ]
  },
  {
   "cell_type": "code",
   "execution_count": 2,
   "id": "4b113429-290f-49b9-8f92-5704b4ce7b08",
   "metadata": {},
   "outputs": [],
   "source": [
    "# Libraries for data loading, manipulation and analysis\n",
    "\n",
    "import numpy as np\n",
    "import pandas as pd\n",
    "import csv\n",
    "import seaborn as sns\n",
    "import matplotlib.pyplot as plt\n",
    "\n",
    "# Displays output inline\n",
    "%matplotlib inline\n",
    "\n",
    "# Libraries for Handing Errors\n",
    "import warnings\n",
    "warnings.filterwarnings('ignore')"
   ]
  },
  {
   "cell_type": "markdown",
   "id": "878f11a5-3bce-4070-8974-9635a4d97bf9",
   "metadata": {},
   "source": [
    "### 3. Loading Data"
   ]
  },
  {
   "cell_type": "markdown",
   "id": "62a4ae55-6d01-4183-b223-c9078d937066",
   "metadata": {},
   "source": [
    "The data used for this project was located in the Avocado_HassAvocadoBoard_20152023v1.0.1.csv file. To better manipulate and analyse the Avocado_HassAvocadoBoard_20152023v1.0.1.csv file, it was loaded into a Pandas Data Frame using the Pandas function, .read_csv(). "
   ]
  },
  {
   "cell_type": "code",
   "execution_count": 3,
   "id": "b1a99092-7dcf-430f-9561-a18daa15aee5",
   "metadata": {},
   "outputs": [],
   "source": [
    "# loading dataset\n",
    "df = pd.read_csv(\"Avocado_HassAvocadoBoard_20152023v1.0.1.csv\", index_col=False)"
   ]
  },
  {
   "cell_type": "markdown",
   "id": "2a33050c-4ebe-4213-ab73-b4987acd649c",
   "metadata": {},
   "source": [
    "Check the DataFrame to see if it loaded correctly."
   ]
  },
  {
   "cell_type": "code",
   "execution_count": 4,
   "id": "be126048",
   "metadata": {},
   "outputs": [
    {
     "data": {
      "text/html": [
       "<div>\n",
       "<style scoped>\n",
       "    .dataframe tbody tr th:only-of-type {\n",
       "        vertical-align: middle;\n",
       "    }\n",
       "\n",
       "    .dataframe tbody tr th {\n",
       "        vertical-align: top;\n",
       "    }\n",
       "\n",
       "    .dataframe thead th {\n",
       "        text-align: right;\n",
       "    }\n",
       "</style>\n",
       "<table border=\"1\" class=\"dataframe\">\n",
       "  <thead>\n",
       "    <tr style=\"text-align: right;\">\n",
       "      <th></th>\n",
       "      <th>Date</th>\n",
       "      <th>AveragePrice</th>\n",
       "      <th>TotalVolume</th>\n",
       "      <th>plu4046</th>\n",
       "      <th>plu4225</th>\n",
       "      <th>plu4770</th>\n",
       "      <th>TotalBags</th>\n",
       "      <th>SmallBags</th>\n",
       "      <th>LargeBags</th>\n",
       "      <th>XLargeBags</th>\n",
       "      <th>type</th>\n",
       "      <th>region</th>\n",
       "    </tr>\n",
       "  </thead>\n",
       "  <tbody>\n",
       "    <tr>\n",
       "      <th>0</th>\n",
       "      <td>2015-01-04</td>\n",
       "      <td>1.22</td>\n",
       "      <td>40873.28</td>\n",
       "      <td>2819.50</td>\n",
       "      <td>28287.42</td>\n",
       "      <td>49.90</td>\n",
       "      <td>9716.46</td>\n",
       "      <td>9186.93</td>\n",
       "      <td>529.53</td>\n",
       "      <td>0.0</td>\n",
       "      <td>conventional</td>\n",
       "      <td>Albany</td>\n",
       "    </tr>\n",
       "    <tr>\n",
       "      <th>1</th>\n",
       "      <td>2015-01-04</td>\n",
       "      <td>1.79</td>\n",
       "      <td>1373.95</td>\n",
       "      <td>57.42</td>\n",
       "      <td>153.88</td>\n",
       "      <td>0.00</td>\n",
       "      <td>1162.65</td>\n",
       "      <td>1162.65</td>\n",
       "      <td>0.00</td>\n",
       "      <td>0.0</td>\n",
       "      <td>organic</td>\n",
       "      <td>Albany</td>\n",
       "    </tr>\n",
       "    <tr>\n",
       "      <th>2</th>\n",
       "      <td>2015-01-04</td>\n",
       "      <td>1.00</td>\n",
       "      <td>435021.49</td>\n",
       "      <td>364302.39</td>\n",
       "      <td>23821.16</td>\n",
       "      <td>82.15</td>\n",
       "      <td>46815.79</td>\n",
       "      <td>16707.15</td>\n",
       "      <td>30108.64</td>\n",
       "      <td>0.0</td>\n",
       "      <td>conventional</td>\n",
       "      <td>Atlanta</td>\n",
       "    </tr>\n",
       "    <tr>\n",
       "      <th>3</th>\n",
       "      <td>2015-01-04</td>\n",
       "      <td>1.76</td>\n",
       "      <td>3846.69</td>\n",
       "      <td>1500.15</td>\n",
       "      <td>938.35</td>\n",
       "      <td>0.00</td>\n",
       "      <td>1408.19</td>\n",
       "      <td>1071.35</td>\n",
       "      <td>336.84</td>\n",
       "      <td>0.0</td>\n",
       "      <td>organic</td>\n",
       "      <td>Atlanta</td>\n",
       "    </tr>\n",
       "    <tr>\n",
       "      <th>4</th>\n",
       "      <td>2015-01-04</td>\n",
       "      <td>1.08</td>\n",
       "      <td>788025.06</td>\n",
       "      <td>53987.31</td>\n",
       "      <td>552906.04</td>\n",
       "      <td>39995.03</td>\n",
       "      <td>141136.68</td>\n",
       "      <td>137146.07</td>\n",
       "      <td>3990.61</td>\n",
       "      <td>0.0</td>\n",
       "      <td>conventional</td>\n",
       "      <td>BaltimoreWashington</td>\n",
       "    </tr>\n",
       "  </tbody>\n",
       "</table>\n",
       "</div>"
      ],
      "text/plain": [
       "         Date  AveragePrice  TotalVolume    plu4046    plu4225   plu4770  \\\n",
       "0  2015-01-04          1.22     40873.28    2819.50   28287.42     49.90   \n",
       "1  2015-01-04          1.79      1373.95      57.42     153.88      0.00   \n",
       "2  2015-01-04          1.00    435021.49  364302.39   23821.16     82.15   \n",
       "3  2015-01-04          1.76      3846.69    1500.15     938.35      0.00   \n",
       "4  2015-01-04          1.08    788025.06   53987.31  552906.04  39995.03   \n",
       "\n",
       "   TotalBags  SmallBags  LargeBags  XLargeBags          type  \\\n",
       "0    9716.46    9186.93     529.53         0.0  conventional   \n",
       "1    1162.65    1162.65       0.00         0.0       organic   \n",
       "2   46815.79   16707.15   30108.64         0.0  conventional   \n",
       "3    1408.19    1071.35     336.84         0.0       organic   \n",
       "4  141136.68  137146.07    3990.61         0.0  conventional   \n",
       "\n",
       "                region  \n",
       "0               Albany  \n",
       "1               Albany  \n",
       "2              Atlanta  \n",
       "3              Atlanta  \n",
       "4  BaltimoreWashington  "
      ]
     },
     "execution_count": 4,
     "metadata": {},
     "output_type": "execute_result"
    }
   ],
   "source": [
    "df.head() "
   ]
  },
  {
   "cell_type": "code",
   "execution_count": 8,
   "id": "e8591f49",
   "metadata": {},
   "outputs": [
    {
     "data": {
      "text/plain": [
       "(53415, 12)"
      ]
     },
     "execution_count": 8,
     "metadata": {},
     "output_type": "execute_result"
    }
   ],
   "source": [
    "# Displays the number of rows and columns\n",
    "df.shape"
   ]
  },
  {
   "cell_type": "markdown",
   "id": "504c9b31-7fa7-4e9b-9ac4-dacdfdbb2718",
   "metadata": {},
   "source": [
    "Results : The dataset consists of 53415 rows (observations) and 12 columns (features)."
   ]
  },
  {
   "cell_type": "code",
   "execution_count": 26,
   "id": "a969875e",
   "metadata": {},
   "outputs": [
    {
     "name": "stdout",
     "output_type": "stream",
     "text": [
      "<class 'pandas.core.frame.DataFrame'>\n",
      "RangeIndex: 53415 entries, 0 to 53414\n",
      "Data columns (total 12 columns):\n",
      " #   Column        Non-Null Count  Dtype  \n",
      "---  ------        --------------  -----  \n",
      " 0   Date          53415 non-null  object \n",
      " 1   AveragePrice  53415 non-null  float64\n",
      " 2   TotalVolume   53415 non-null  float64\n",
      " 3   plu4046       53415 non-null  float64\n",
      " 4   plu4225       53415 non-null  float64\n",
      " 5   plu4770       53415 non-null  float64\n",
      " 6   TotalBags     53415 non-null  float64\n",
      " 7   SmallBags     41025 non-null  float64\n",
      " 8   LargeBags     41025 non-null  float64\n",
      " 9   XLargeBags    41025 non-null  float64\n",
      " 10  type          53415 non-null  object \n",
      " 11  region        53415 non-null  object \n",
      "dtypes: float64(9), object(3)\n",
      "memory usage: 4.9+ MB\n"
     ]
    }
   ],
   "source": [
    "## Display summary information about the DataFrame.\n",
    "df.info()"
   ]
  },
  {
   "cell_type": "code",
   "execution_count": 28,
   "id": "33fc7fee",
   "metadata": {},
   "outputs": [
    {
     "data": {
      "text/html": [
       "<div>\n",
       "<style scoped>\n",
       "    .dataframe tbody tr th:only-of-type {\n",
       "        vertical-align: middle;\n",
       "    }\n",
       "\n",
       "    .dataframe tbody tr th {\n",
       "        vertical-align: top;\n",
       "    }\n",
       "\n",
       "    .dataframe thead th {\n",
       "        text-align: right;\n",
       "    }\n",
       "</style>\n",
       "<table border=\"1\" class=\"dataframe\">\n",
       "  <thead>\n",
       "    <tr style=\"text-align: right;\">\n",
       "      <th></th>\n",
       "      <th>AveragePrice</th>\n",
       "      <th>TotalVolume</th>\n",
       "      <th>plu4046</th>\n",
       "      <th>plu4225</th>\n",
       "      <th>plu4770</th>\n",
       "      <th>TotalBags</th>\n",
       "      <th>SmallBags</th>\n",
       "      <th>LargeBags</th>\n",
       "      <th>XLargeBags</th>\n",
       "    </tr>\n",
       "  </thead>\n",
       "  <tbody>\n",
       "    <tr>\n",
       "      <th>count</th>\n",
       "      <td>53415.000000</td>\n",
       "      <td>5.341500e+04</td>\n",
       "      <td>5.341500e+04</td>\n",
       "      <td>5.341500e+04</td>\n",
       "      <td>5.341500e+04</td>\n",
       "      <td>5.341500e+04</td>\n",
       "      <td>4.102500e+04</td>\n",
       "      <td>4.102500e+04</td>\n",
       "      <td>41025.000000</td>\n",
       "    </tr>\n",
       "    <tr>\n",
       "      <th>mean</th>\n",
       "      <td>1.428910</td>\n",
       "      <td>8.694474e+05</td>\n",
       "      <td>2.982707e+05</td>\n",
       "      <td>2.222170e+05</td>\n",
       "      <td>2.053195e+04</td>\n",
       "      <td>2.175083e+05</td>\n",
       "      <td>1.039222e+05</td>\n",
       "      <td>2.331316e+04</td>\n",
       "      <td>2731.811796</td>\n",
       "    </tr>\n",
       "    <tr>\n",
       "      <th>std</th>\n",
       "      <td>0.393116</td>\n",
       "      <td>3.545274e+06</td>\n",
       "      <td>1.307669e+06</td>\n",
       "      <td>9.554624e+05</td>\n",
       "      <td>1.040977e+05</td>\n",
       "      <td>8.676947e+05</td>\n",
       "      <td>5.692608e+05</td>\n",
       "      <td>1.496622e+05</td>\n",
       "      <td>22589.096454</td>\n",
       "    </tr>\n",
       "    <tr>\n",
       "      <th>min</th>\n",
       "      <td>0.440000</td>\n",
       "      <td>8.456000e+01</td>\n",
       "      <td>0.000000e+00</td>\n",
       "      <td>0.000000e+00</td>\n",
       "      <td>0.000000e+00</td>\n",
       "      <td>0.000000e+00</td>\n",
       "      <td>0.000000e+00</td>\n",
       "      <td>0.000000e+00</td>\n",
       "      <td>0.000000</td>\n",
       "    </tr>\n",
       "    <tr>\n",
       "      <th>25%</th>\n",
       "      <td>1.119091</td>\n",
       "      <td>1.626465e+04</td>\n",
       "      <td>6.947250e+02</td>\n",
       "      <td>2.120800e+03</td>\n",
       "      <td>0.000000e+00</td>\n",
       "      <td>7.846520e+03</td>\n",
       "      <td>0.000000e+00</td>\n",
       "      <td>0.000000e+00</td>\n",
       "      <td>0.000000</td>\n",
       "    </tr>\n",
       "    <tr>\n",
       "      <th>50%</th>\n",
       "      <td>1.400000</td>\n",
       "      <td>1.203525e+05</td>\n",
       "      <td>1.458058e+04</td>\n",
       "      <td>1.751663e+04</td>\n",
       "      <td>9.005000e+01</td>\n",
       "      <td>3.695310e+04</td>\n",
       "      <td>6.945800e+02</td>\n",
       "      <td>0.000000e+00</td>\n",
       "      <td>0.000000</td>\n",
       "    </tr>\n",
       "    <tr>\n",
       "      <th>75%</th>\n",
       "      <td>1.690000</td>\n",
       "      <td>4.542380e+05</td>\n",
       "      <td>1.287924e+05</td>\n",
       "      <td>9.351560e+04</td>\n",
       "      <td>3.599735e+03</td>\n",
       "      <td>1.110146e+05</td>\n",
       "      <td>3.795298e+04</td>\n",
       "      <td>2.814920e+03</td>\n",
       "      <td>0.000000</td>\n",
       "    </tr>\n",
       "    <tr>\n",
       "      <th>max</th>\n",
       "      <td>3.440830</td>\n",
       "      <td>6.103446e+07</td>\n",
       "      <td>2.544720e+07</td>\n",
       "      <td>2.047057e+07</td>\n",
       "      <td>2.860025e+06</td>\n",
       "      <td>1.629830e+07</td>\n",
       "      <td>1.256716e+07</td>\n",
       "      <td>4.324231e+06</td>\n",
       "      <td>679586.800000</td>\n",
       "    </tr>\n",
       "  </tbody>\n",
       "</table>\n",
       "</div>"
      ],
      "text/plain": [
       "       AveragePrice   TotalVolume       plu4046       plu4225       plu4770  \\\n",
       "count  53415.000000  5.341500e+04  5.341500e+04  5.341500e+04  5.341500e+04   \n",
       "mean       1.428910  8.694474e+05  2.982707e+05  2.222170e+05  2.053195e+04   \n",
       "std        0.393116  3.545274e+06  1.307669e+06  9.554624e+05  1.040977e+05   \n",
       "min        0.440000  8.456000e+01  0.000000e+00  0.000000e+00  0.000000e+00   \n",
       "25%        1.119091  1.626465e+04  6.947250e+02  2.120800e+03  0.000000e+00   \n",
       "50%        1.400000  1.203525e+05  1.458058e+04  1.751663e+04  9.005000e+01   \n",
       "75%        1.690000  4.542380e+05  1.287924e+05  9.351560e+04  3.599735e+03   \n",
       "max        3.440830  6.103446e+07  2.544720e+07  2.047057e+07  2.860025e+06   \n",
       "\n",
       "          TotalBags     SmallBags     LargeBags     XLargeBags  \n",
       "count  5.341500e+04  4.102500e+04  4.102500e+04   41025.000000  \n",
       "mean   2.175083e+05  1.039222e+05  2.331316e+04    2731.811796  \n",
       "std    8.676947e+05  5.692608e+05  1.496622e+05   22589.096454  \n",
       "min    0.000000e+00  0.000000e+00  0.000000e+00       0.000000  \n",
       "25%    7.846520e+03  0.000000e+00  0.000000e+00       0.000000  \n",
       "50%    3.695310e+04  6.945800e+02  0.000000e+00       0.000000  \n",
       "75%    1.110146e+05  3.795298e+04  2.814920e+03       0.000000  \n",
       "max    1.629830e+07  1.256716e+07  4.324231e+06  679586.800000  "
      ]
     },
     "execution_count": 28,
     "metadata": {},
     "output_type": "execute_result"
    }
   ],
   "source": [
    "df.describe()"
   ]
  },
  {
   "cell_type": "markdown",
   "id": "8b170436-20e0-42fe-b13e-bb91120ad249",
   "metadata": {},
   "source": [
    "### 4. Data Cleaning"
   ]
  },
  {
   "cell_type": "markdown",
   "id": "27a06f98-5c48-4f51-8ab2-d7d19a91fb84",
   "metadata": {},
   "source": [
    "Handling Missing Values"
   ]
  },
  {
   "cell_type": "markdown",
   "id": "d92c2118-4a6c-4063-a340-275a38b8ae8b",
   "metadata": {},
   "source": [
    "### 5. Exploratory Data Analysis (EDA)"
   ]
  },
  {
   "cell_type": "code",
   "execution_count": null,
   "id": "aaa00e75-f713-4c82-853b-95b8cf7ae29f",
   "metadata": {},
   "outputs": [],
   "source": []
  },
  {
   "cell_type": "markdown",
   "id": "d4674172-1504-462f-8d0f-39b557d5db48",
   "metadata": {},
   "source": [
    "### 6. Conclusion"
   ]
  },
  {
   "cell_type": "code",
   "execution_count": null,
   "id": "d4d0657a-ba9e-47cf-b8e0-8afe1c137d17",
   "metadata": {},
   "outputs": [],
   "source": []
  }
 ],
 "metadata": {
  "kernelspec": {
   "display_name": "Python 3 (ipykernel)",
   "language": "python",
   "name": "python3"
  },
  "language_info": {
   "codemirror_mode": {
    "name": "ipython",
    "version": 3
   },
   "file_extension": ".py",
   "mimetype": "text/x-python",
   "name": "python",
   "nbconvert_exporter": "python",
   "pygments_lexer": "ipython3",
   "version": "3.12.4"
  }
 },
 "nbformat": 4,
 "nbformat_minor": 5
}
